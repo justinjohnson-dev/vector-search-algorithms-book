{
 "cells": [
  {
   "cell_type": "code",
   "execution_count": 28,
   "id": "d7347c12",
   "metadata": {},
   "outputs": [],
   "source": [
    "from langchain.document_loaders import UnstructuredPDFLoader, OnlinePDFLoader"
   ]
  },
  {
   "cell_type": "code",
   "execution_count": null,
   "id": "3410bfc8",
   "metadata": {},
   "outputs": [],
   "source": [
    "# Currently using langchain UnstructuredPDFLoader to load the PDF from local, could use the OnlinePDFLoader to load from a URL\n",
    "loader = UnstructuredPDFLoader(\"/Users/jj/Documents/dev/vector-search/vector-search-algorithms-book/data/algorithms_text_book.pdf\")\n",
    "data = loader.load()\n",
    "len(data[0].page_content)"
   ]
  },
  {
   "cell_type": "code",
   "execution_count": null,
   "id": "7f53b344",
   "metadata": {},
   "outputs": [],
   "source": [
    "from langchain.text_splitter import RecursiveCharacterTextSplitter\n",
    "\n",
    "# Split the text into chunks of 1000 characters, with 200 characters of overlap\n",
    "text_splitter = RecursiveCharacterTextSplitter(\n",
    "    chunk_size = 1000,\n",
    "    chunk_overlap  = 200,\n",
    "    length_function = len,\n",
    ")\n",
    "\n",
    "texts = text_splitter.split_documents(data)\n",
    "print(texts[1])"
   ]
  },
  {
   "cell_type": "code",
   "execution_count": null,
   "id": "e925d80e",
   "metadata": {},
   "outputs": [],
   "source": [
    "import os\n",
    "import getpass\n",
    "\n",
    "# Set the environment variables from user input\n",
    "PINECONE_API_KEY = getpass.getpass('Pinecone API Key:')\n",
    "PINECONE_ENVIRONMENT = getpass.getpass(\"Pinecone API Environment:\")\n",
    "os.environ['OPENAI_API_KEY'] = getpass.getpass('OpenAI API Key:')"
   ]
  },
  {
   "cell_type": "code",
   "execution_count": 16,
   "id": "3a002e5c",
   "metadata": {},
   "outputs": [],
   "source": [
    "from langchain.embeddings.openai import OpenAIEmbeddings\n",
    "from langchain.vectorstores import Pinecone\n",
    "import pinecone\n",
    "\n",
    "# initialize pinecone\n",
    "pinecone.init(\n",
    "    api_key=PINECONE_API_KEY,  # find at app.pinecone.io\n",
    "    environment=PINECONE_ENVIRONMENT  # next to api key in console\n",
    ")\n",
    "\n",
    "index_name = \"pdf-algorithms-text-book\""
   ]
  },
  {
   "cell_type": "code",
   "execution_count": 19,
   "id": "4fe22264",
   "metadata": {},
   "outputs": [],
   "source": [
    "embeddings = OpenAIEmbeddings()\n",
    "# With the embeddings and the texts, create the Pinecone index\n",
    "docsearch = Pinecone.from_texts([t.page_content for t in texts], embeddings, index_name=index_name)"
   ]
  },
  {
   "cell_type": "code",
   "execution_count": 61,
   "id": "d5d1ec25",
   "metadata": {},
   "outputs": [],
   "source": [
    "from langchain.llms import OpenAI\n",
    "from langchain.chains.question_answering import load_qa_chain\n",
    "\n",
    "# create the LLM and load the chain\n",
    "llm = OpenAI(temperature=0, openai_api_key=os.environ['OPENAI_API_KEY'])\n",
    "chain = load_qa_chain(llm, chain_type='stuff')"
   ]
  },
  {
   "cell_type": "code",
   "execution_count": 31,
   "id": "c2b5980d",
   "metadata": {},
   "outputs": [],
   "source": [
    "query = \"What is big o notation? Format response as json object.\"\n",
    "\n",
    "# similarity search from pinecone index\n",
    "docs = docsearch.similarity_search(query)"
   ]
  },
  {
   "cell_type": "code",
   "execution_count": 32,
   "id": "0a93a727",
   "metadata": {},
   "outputs": [
    {
     "data": {
      "text/plain": [
       "' {\\n\"definition\": \"Big-O notation is a way of expressing the complexity of an algorithm. It is used to describe the rate of growth of a function, and is expressed as O(f(n)), where f(n) is the function that describes the rate of growth. It is used to compare the relative complexity of different algorithms, and is often used to simplify complicated functions by omitting dominated terms.\"\\n}'"
      ]
     },
     "execution_count": 32,
     "metadata": {},
     "output_type": "execute_result"
    }
   ],
   "source": [
    "# run the chain\n",
    "response = chain.run(input_documents=docs, question=query)\n",
    "response"
   ]
  }
 ],
 "metadata": {
  "kernelspec": {
   "display_name": "Python 3 (ipykernel)",
   "language": "python",
   "name": "python3"
  },
  "language_info": {
   "codemirror_mode": {
    "name": "ipython",
    "version": 3
   },
   "file_extension": ".py",
   "mimetype": "text/x-python",
   "name": "python",
   "nbconvert_exporter": "python",
   "pygments_lexer": "ipython3",
   "version": "3.11.3"
  }
 },
 "nbformat": 4,
 "nbformat_minor": 5
}
