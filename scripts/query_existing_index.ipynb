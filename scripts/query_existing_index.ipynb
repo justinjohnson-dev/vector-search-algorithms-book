{
 "cells": [
  {
   "cell_type": "code",
   "execution_count": null,
   "id": "b0e42e18",
   "metadata": {},
   "outputs": [],
   "source": [
    "import os\n",
    "import getpass\n",
    "\n",
    "# Set the environment variables from user input\n",
    "PINECONE_API_KEY = getpass.getpass('Pinecone API Key:')\n",
    "PINECONE_ENVIRONMENT = getpass.getpass(\"Pinecone API Environment:\")\n",
    "os.environ['OPENAI_API_KEY'] = getpass.getpass('OpenAI API Key:')"
   ]
  },
  {
   "cell_type": "code",
   "execution_count": 48,
   "id": "58f2ec0f",
   "metadata": {},
   "outputs": [],
   "source": [
    "from langchain.embeddings.openai import OpenAIEmbeddings\n",
    "from langchain.vectorstores import Pinecone\n",
    "import pinecone\n",
    "\n",
    "# initialize pinecone\n",
    "pinecone.init(\n",
    "    api_key=PINECONE_API_KEY,  # find at app.pinecone.io\n",
    "    environment=PINECONE_ENVIRONMENT  # next to api key in console\n",
    ")\n",
    "\n",
    "# initialize openai embeddings index\n",
    "index_name = \"pdf-algorithms-text-book\""
   ]
  },
  {
   "cell_type": "code",
   "execution_count": 38,
   "id": "a4ef0c3f",
   "metadata": {},
   "outputs": [],
   "source": [
    "from langchain.llms import OpenAI\n",
    "from langchain.chains.question_answering import load_qa_chain\n",
    "\n",
    "# configure llm\n",
    "llm = OpenAI(temperature=0, openai_api_key=os.environ['OPENAI_API_KEY'])\n",
    "# load the qa chain\n",
    "chain = load_qa_chain(llm, chain_type='map_reduce')"
   ]
  },
  {
   "cell_type": "code",
   "execution_count": 39,
   "id": "c033de2a",
   "metadata": {},
   "outputs": [],
   "source": [
    "# initialize the embeddings and pinecone index\n",
    "embeddings = OpenAIEmbeddings()\n",
    "docsearch = Pinecone.from_existing_index(index_name, embeddings)"
   ]
  },
  {
   "cell_type": "code",
   "execution_count": null,
   "id": "e74f25ec",
   "metadata": {},
   "outputs": [],
   "source": [
    "query = \"What is big o notation? Format response as json object.\"\n",
    "\n",
    "# similarity search from pinecone index\n",
    "docs = docsearch.similarity_search(query)"
   ]
  },
  {
   "cell_type": "code",
   "execution_count": 46,
   "id": "1846a0e0",
   "metadata": {},
   "outputs": [
    {
     "data": {
      "text/plain": [
       "' {\\n  \"text\": \"Big O notation is a way of expressing the complexity of an algorithm, which captures how the algorithm scales as the input size grows. It is a very loose analog of f because of the constant c, which allows us to disregard what happens for small values of n. It is used to compare algorithms, and captures the superiority of one algorithm over another by expressing it as f2 = O(f1).\"\\n}'"
      ]
     },
     "execution_count": 46,
     "metadata": {},
     "output_type": "execute_result"
    }
   ],
   "source": [
    "# run the chain\n",
    "response = chain.run(input_documents=docs, question=query)\n",
    "response"
   ]
  }
 ],
 "metadata": {
  "kernelspec": {
   "display_name": "Python 3 (ipykernel)",
   "language": "python",
   "name": "python3"
  },
  "language_info": {
   "codemirror_mode": {
    "name": "ipython",
    "version": 3
   },
   "file_extension": ".py",
   "mimetype": "text/x-python",
   "name": "python",
   "nbconvert_exporter": "python",
   "pygments_lexer": "ipython3",
   "version": "3.11.3"
  }
 },
 "nbformat": 4,
 "nbformat_minor": 5
}
